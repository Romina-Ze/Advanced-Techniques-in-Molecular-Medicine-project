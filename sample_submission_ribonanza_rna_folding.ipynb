{
  "cells": [
    {
      "cell_type": "code",
      "execution_count": null,
      "id": "9a46b9d2",
      "metadata": {
        "_cell_guid": "b1076dfc-b9ad-4769-8c92-a6c4dae69d19",
        "_uuid": "8f2839f25d086af736a60e9eeb907d3b93b6e0e5",
        "execution": {
          "iopub.execute_input": "2023-10-06T21:39:35.736123Z",
          "iopub.status.busy": "2023-10-06T21:39:35.735538Z",
          "iopub.status.idle": "2023-10-06T21:39:37.944606Z",
          "shell.execute_reply": "2023-10-06T21:39:37.943793Z"
        },
        "papermill": {
          "duration": 2.218037,
          "end_time": "2023-10-06T21:39:37.946834",
          "exception": false,
          "start_time": "2023-10-06T21:39:35.728797",
          "status": "completed"
        },
        "tags": [],
        "id": "9a46b9d2",
        "outputId": "12031db5-1de1-4787-9fab-3db879810599"
      },
      "outputs": [
        {
          "data": {
            "text/html": [
              "<div>\n",
              "<style scoped>\n",
              "    .dataframe tbody tr th:only-of-type {\n",
              "        vertical-align: middle;\n",
              "    }\n",
              "\n",
              "    .dataframe tbody tr th {\n",
              "        vertical-align: top;\n",
              "    }\n",
              "\n",
              "    .dataframe thead th {\n",
              "        text-align: right;\n",
              "    }\n",
              "</style>\n",
              "<table border=\"1\" class=\"dataframe\">\n",
              "  <thead>\n",
              "    <tr style=\"text-align: right;\">\n",
              "      <th></th>\n",
              "      <th>sequence_id</th>\n",
              "      <th>sequence</th>\n",
              "      <th>experiment_type</th>\n",
              "      <th>dataset_name</th>\n",
              "      <th>reactivity_0001</th>\n",
              "      <th>reactivity_0002</th>\n",
              "      <th>reactivity_0003</th>\n",
              "      <th>reactivity_0004</th>\n",
              "      <th>reactivity_0005</th>\n",
              "      <th>reactivity_0006</th>\n",
              "      <th>...</th>\n",
              "      <th>reactivity_error_0197</th>\n",
              "      <th>reactivity_error_0198</th>\n",
              "      <th>reactivity_error_0199</th>\n",
              "      <th>reactivity_error_0200</th>\n",
              "      <th>reactivity_error_0201</th>\n",
              "      <th>reactivity_error_0202</th>\n",
              "      <th>reactivity_error_0203</th>\n",
              "      <th>reactivity_error_0204</th>\n",
              "      <th>reactivity_error_0205</th>\n",
              "      <th>reactivity_error_0206</th>\n",
              "    </tr>\n",
              "  </thead>\n",
              "  <tbody>\n",
              "    <tr>\n",
              "      <th>0</th>\n",
              "      <td>0000d87cab97</td>\n",
              "      <td>GGGAACGACUCGAGUAGAGUCGAAAAAGAUCGCCACGCACUUACGA...</td>\n",
              "      <td>2A3_MaP</td>\n",
              "      <td>DasLabBigLib_OneMil_RFAM_windows_100mers_2A3</td>\n",
              "      <td>NaN</td>\n",
              "      <td>NaN</td>\n",
              "      <td>NaN</td>\n",
              "      <td>NaN</td>\n",
              "      <td>NaN</td>\n",
              "      <td>NaN</td>\n",
              "      <td>...</td>\n",
              "      <td>NaN</td>\n",
              "      <td>NaN</td>\n",
              "      <td>NaN</td>\n",
              "      <td>NaN</td>\n",
              "      <td>NaN</td>\n",
              "      <td>NaN</td>\n",
              "      <td>NaN</td>\n",
              "      <td>NaN</td>\n",
              "      <td>NaN</td>\n",
              "      <td>NaN</td>\n",
              "    </tr>\n",
              "    <tr>\n",
              "      <th>1</th>\n",
              "      <td>0000d87cab97</td>\n",
              "      <td>GGGAACGACUCGAGUAGAGUCGAAAAAGAUCGCCACGCACUUACGA...</td>\n",
              "      <td>DMS_MaP</td>\n",
              "      <td>DasLabBigLib_OneMil_RFAM_windows_100mers_DMS</td>\n",
              "      <td>NaN</td>\n",
              "      <td>NaN</td>\n",
              "      <td>NaN</td>\n",
              "      <td>NaN</td>\n",
              "      <td>NaN</td>\n",
              "      <td>NaN</td>\n",
              "      <td>...</td>\n",
              "      <td>NaN</td>\n",
              "      <td>NaN</td>\n",
              "      <td>NaN</td>\n",
              "      <td>NaN</td>\n",
              "      <td>NaN</td>\n",
              "      <td>NaN</td>\n",
              "      <td>NaN</td>\n",
              "      <td>NaN</td>\n",
              "      <td>NaN</td>\n",
              "      <td>NaN</td>\n",
              "    </tr>\n",
              "    <tr>\n",
              "      <th>2</th>\n",
              "      <td>0001ca9d21b0</td>\n",
              "      <td>GGGAACGACUCGAGUAGAGUCGAAAAGGUGGCCGGCAGAAUCGCGA...</td>\n",
              "      <td>2A3_MaP</td>\n",
              "      <td>DasLabBigLib_OneMil_OpenKnot_Round_2_train_2A3</td>\n",
              "      <td>NaN</td>\n",
              "      <td>NaN</td>\n",
              "      <td>NaN</td>\n",
              "      <td>NaN</td>\n",
              "      <td>NaN</td>\n",
              "      <td>NaN</td>\n",
              "      <td>...</td>\n",
              "      <td>NaN</td>\n",
              "      <td>NaN</td>\n",
              "      <td>NaN</td>\n",
              "      <td>NaN</td>\n",
              "      <td>NaN</td>\n",
              "      <td>NaN</td>\n",
              "      <td>NaN</td>\n",
              "      <td>NaN</td>\n",
              "      <td>NaN</td>\n",
              "      <td>NaN</td>\n",
              "    </tr>\n",
              "    <tr>\n",
              "      <th>3</th>\n",
              "      <td>0001ca9d21b0</td>\n",
              "      <td>GGGAACGACUCGAGUAGAGUCGAAAAGGUGGCCGGCAGAAUCGCGA...</td>\n",
              "      <td>DMS_MaP</td>\n",
              "      <td>DasLabBigLib_OneMil_OpenKnot_Round_2_train_DMS</td>\n",
              "      <td>NaN</td>\n",
              "      <td>NaN</td>\n",
              "      <td>NaN</td>\n",
              "      <td>NaN</td>\n",
              "      <td>NaN</td>\n",
              "      <td>NaN</td>\n",
              "      <td>...</td>\n",
              "      <td>NaN</td>\n",
              "      <td>NaN</td>\n",
              "      <td>NaN</td>\n",
              "      <td>NaN</td>\n",
              "      <td>NaN</td>\n",
              "      <td>NaN</td>\n",
              "      <td>NaN</td>\n",
              "      <td>NaN</td>\n",
              "      <td>NaN</td>\n",
              "      <td>NaN</td>\n",
              "    </tr>\n",
              "    <tr>\n",
              "      <th>4</th>\n",
              "      <td>00021f968267</td>\n",
              "      <td>GGGAACGACUCGAGUAGAGUCGAAAACAUUGUUAAUGCCUAUAUUA...</td>\n",
              "      <td>2A3_MaP</td>\n",
              "      <td>DasLabBigLib_OneMil_Replicates_from_previous_l...</td>\n",
              "      <td>NaN</td>\n",
              "      <td>NaN</td>\n",
              "      <td>NaN</td>\n",
              "      <td>NaN</td>\n",
              "      <td>NaN</td>\n",
              "      <td>NaN</td>\n",
              "      <td>...</td>\n",
              "      <td>NaN</td>\n",
              "      <td>NaN</td>\n",
              "      <td>NaN</td>\n",
              "      <td>NaN</td>\n",
              "      <td>NaN</td>\n",
              "      <td>NaN</td>\n",
              "      <td>NaN</td>\n",
              "      <td>NaN</td>\n",
              "      <td>NaN</td>\n",
              "      <td>NaN</td>\n",
              "    </tr>\n",
              "  </tbody>\n",
              "</table>\n",
              "<p>5 rows × 416 columns</p>\n",
              "</div>"
            ],
            "text/plain": [
              "    sequence_id                                           sequence  \\\n",
              "0  0000d87cab97  GGGAACGACUCGAGUAGAGUCGAAAAAGAUCGCCACGCACUUACGA...   \n",
              "1  0000d87cab97  GGGAACGACUCGAGUAGAGUCGAAAAAGAUCGCCACGCACUUACGA...   \n",
              "2  0001ca9d21b0  GGGAACGACUCGAGUAGAGUCGAAAAGGUGGCCGGCAGAAUCGCGA...   \n",
              "3  0001ca9d21b0  GGGAACGACUCGAGUAGAGUCGAAAAGGUGGCCGGCAGAAUCGCGA...   \n",
              "4  00021f968267  GGGAACGACUCGAGUAGAGUCGAAAACAUUGUUAAUGCCUAUAUUA...   \n",
              "\n",
              "  experiment_type                                       dataset_name  \\\n",
              "0         2A3_MaP       DasLabBigLib_OneMil_RFAM_windows_100mers_2A3   \n",
              "1         DMS_MaP       DasLabBigLib_OneMil_RFAM_windows_100mers_DMS   \n",
              "2         2A3_MaP     DasLabBigLib_OneMil_OpenKnot_Round_2_train_2A3   \n",
              "3         DMS_MaP     DasLabBigLib_OneMil_OpenKnot_Round_2_train_DMS   \n",
              "4         2A3_MaP  DasLabBigLib_OneMil_Replicates_from_previous_l...   \n",
              "\n",
              "   reactivity_0001  reactivity_0002  reactivity_0003  reactivity_0004  \\\n",
              "0              NaN              NaN              NaN              NaN   \n",
              "1              NaN              NaN              NaN              NaN   \n",
              "2              NaN              NaN              NaN              NaN   \n",
              "3              NaN              NaN              NaN              NaN   \n",
              "4              NaN              NaN              NaN              NaN   \n",
              "\n",
              "   reactivity_0005  reactivity_0006  ...  reactivity_error_0197  \\\n",
              "0              NaN              NaN  ...                    NaN   \n",
              "1              NaN              NaN  ...                    NaN   \n",
              "2              NaN              NaN  ...                    NaN   \n",
              "3              NaN              NaN  ...                    NaN   \n",
              "4              NaN              NaN  ...                    NaN   \n",
              "\n",
              "   reactivity_error_0198  reactivity_error_0199  reactivity_error_0200  \\\n",
              "0                    NaN                    NaN                    NaN   \n",
              "1                    NaN                    NaN                    NaN   \n",
              "2                    NaN                    NaN                    NaN   \n",
              "3                    NaN                    NaN                    NaN   \n",
              "4                    NaN                    NaN                    NaN   \n",
              "\n",
              "   reactivity_error_0201  reactivity_error_0202  reactivity_error_0203  \\\n",
              "0                    NaN                    NaN                    NaN   \n",
              "1                    NaN                    NaN                    NaN   \n",
              "2                    NaN                    NaN                    NaN   \n",
              "3                    NaN                    NaN                    NaN   \n",
              "4                    NaN                    NaN                    NaN   \n",
              "\n",
              "   reactivity_error_0204  reactivity_error_0205  reactivity_error_0206  \n",
              "0                    NaN                    NaN                    NaN  \n",
              "1                    NaN                    NaN                    NaN  \n",
              "2                    NaN                    NaN                    NaN  \n",
              "3                    NaN                    NaN                    NaN  \n",
              "4                    NaN                    NaN                    NaN  \n",
              "\n",
              "[5 rows x 416 columns]"
            ]
          },
          "execution_count": 22,
          "metadata": {},
          "output_type": "execute_result"
        }
      ],
      "source": [
        "import numpy as np\n",
        "import pandas as pd\n",
        "\n",
        "# Load just 20000 rows - the entire input data is massive!\n",
        "df = pd.read_csv('Datasets/train_data_QUICK_START.csv')\n",
        "df.head()"
      ]
    },
    {
      "cell_type": "markdown",
      "id": "8708dc4f",
      "metadata": {
        "id": "8708dc4f"
      },
      "source": [
        "Take only most frequent bases (n=177)"
      ]
    },
    {
      "cell_type": "code",
      "execution_count": null,
      "id": "430e5c1f",
      "metadata": {
        "id": "430e5c1f"
      },
      "outputs": [],
      "source": [
        "# Add new column which holds sequence len\n",
        "\n",
        "sequence_len = df['sequence'].apply(lambda x: len(x))\n",
        "df.insert (3, \"sequence_len\", sequence_len)\n"
      ]
    },
    {
      "cell_type": "code",
      "execution_count": null,
      "id": "ad868605",
      "metadata": {
        "id": "ad868605",
        "outputId": "e64b71a0-ff6e-44cf-817d-a502d9e8c63c"
      },
      "outputs": [
        {
          "data": {
            "text/html": [
              "<div>\n",
              "<style scoped>\n",
              "    .dataframe tbody tr th:only-of-type {\n",
              "        vertical-align: middle;\n",
              "    }\n",
              "\n",
              "    .dataframe tbody tr th {\n",
              "        vertical-align: top;\n",
              "    }\n",
              "\n",
              "    .dataframe thead th {\n",
              "        text-align: right;\n",
              "    }\n",
              "</style>\n",
              "<table border=\"1\" class=\"dataframe\">\n",
              "  <thead>\n",
              "    <tr style=\"text-align: right;\">\n",
              "      <th></th>\n",
              "      <th>sequence_id</th>\n",
              "      <th>sequence</th>\n",
              "      <th>experiment_type</th>\n",
              "      <th>sequence_len</th>\n",
              "      <th>dataset_name</th>\n",
              "      <th>reactivity_0001</th>\n",
              "      <th>reactivity_0002</th>\n",
              "      <th>reactivity_0003</th>\n",
              "      <th>reactivity_0004</th>\n",
              "      <th>reactivity_0005</th>\n",
              "      <th>...</th>\n",
              "      <th>reactivity_error_0197</th>\n",
              "      <th>reactivity_error_0198</th>\n",
              "      <th>reactivity_error_0199</th>\n",
              "      <th>reactivity_error_0200</th>\n",
              "      <th>reactivity_error_0201</th>\n",
              "      <th>reactivity_error_0202</th>\n",
              "      <th>reactivity_error_0203</th>\n",
              "      <th>reactivity_error_0204</th>\n",
              "      <th>reactivity_error_0205</th>\n",
              "      <th>reactivity_error_0206</th>\n",
              "    </tr>\n",
              "  </thead>\n",
              "  <tbody>\n",
              "    <tr>\n",
              "      <th>0</th>\n",
              "      <td>0000d87cab97</td>\n",
              "      <td>GGGAACGACUCGAGUAGAGUCGAAAAAGAUCGCCACGCACUUACGA...</td>\n",
              "      <td>2A3_MaP</td>\n",
              "      <td>177</td>\n",
              "      <td>DasLabBigLib_OneMil_RFAM_windows_100mers_2A3</td>\n",
              "      <td>NaN</td>\n",
              "      <td>NaN</td>\n",
              "      <td>NaN</td>\n",
              "      <td>NaN</td>\n",
              "      <td>NaN</td>\n",
              "      <td>...</td>\n",
              "      <td>NaN</td>\n",
              "      <td>NaN</td>\n",
              "      <td>NaN</td>\n",
              "      <td>NaN</td>\n",
              "      <td>NaN</td>\n",
              "      <td>NaN</td>\n",
              "      <td>NaN</td>\n",
              "      <td>NaN</td>\n",
              "      <td>NaN</td>\n",
              "      <td>NaN</td>\n",
              "    </tr>\n",
              "    <tr>\n",
              "      <th>1</th>\n",
              "      <td>0000d87cab97</td>\n",
              "      <td>GGGAACGACUCGAGUAGAGUCGAAAAAGAUCGCCACGCACUUACGA...</td>\n",
              "      <td>DMS_MaP</td>\n",
              "      <td>177</td>\n",
              "      <td>DasLabBigLib_OneMil_RFAM_windows_100mers_DMS</td>\n",
              "      <td>NaN</td>\n",
              "      <td>NaN</td>\n",
              "      <td>NaN</td>\n",
              "      <td>NaN</td>\n",
              "      <td>NaN</td>\n",
              "      <td>...</td>\n",
              "      <td>NaN</td>\n",
              "      <td>NaN</td>\n",
              "      <td>NaN</td>\n",
              "      <td>NaN</td>\n",
              "      <td>NaN</td>\n",
              "      <td>NaN</td>\n",
              "      <td>NaN</td>\n",
              "      <td>NaN</td>\n",
              "      <td>NaN</td>\n",
              "      <td>NaN</td>\n",
              "    </tr>\n",
              "    <tr>\n",
              "      <th>2</th>\n",
              "      <td>0001ca9d21b0</td>\n",
              "      <td>GGGAACGACUCGAGUAGAGUCGAAAAGGUGGCCGGCAGAAUCGCGA...</td>\n",
              "      <td>2A3_MaP</td>\n",
              "      <td>177</td>\n",
              "      <td>DasLabBigLib_OneMil_OpenKnot_Round_2_train_2A3</td>\n",
              "      <td>NaN</td>\n",
              "      <td>NaN</td>\n",
              "      <td>NaN</td>\n",
              "      <td>NaN</td>\n",
              "      <td>NaN</td>\n",
              "      <td>...</td>\n",
              "      <td>NaN</td>\n",
              "      <td>NaN</td>\n",
              "      <td>NaN</td>\n",
              "      <td>NaN</td>\n",
              "      <td>NaN</td>\n",
              "      <td>NaN</td>\n",
              "      <td>NaN</td>\n",
              "      <td>NaN</td>\n",
              "      <td>NaN</td>\n",
              "      <td>NaN</td>\n",
              "    </tr>\n",
              "    <tr>\n",
              "      <th>3</th>\n",
              "      <td>0001ca9d21b0</td>\n",
              "      <td>GGGAACGACUCGAGUAGAGUCGAAAAGGUGGCCGGCAGAAUCGCGA...</td>\n",
              "      <td>DMS_MaP</td>\n",
              "      <td>177</td>\n",
              "      <td>DasLabBigLib_OneMil_OpenKnot_Round_2_train_DMS</td>\n",
              "      <td>NaN</td>\n",
              "      <td>NaN</td>\n",
              "      <td>NaN</td>\n",
              "      <td>NaN</td>\n",
              "      <td>NaN</td>\n",
              "      <td>...</td>\n",
              "      <td>NaN</td>\n",
              "      <td>NaN</td>\n",
              "      <td>NaN</td>\n",
              "      <td>NaN</td>\n",
              "      <td>NaN</td>\n",
              "      <td>NaN</td>\n",
              "      <td>NaN</td>\n",
              "      <td>NaN</td>\n",
              "      <td>NaN</td>\n",
              "      <td>NaN</td>\n",
              "    </tr>\n",
              "    <tr>\n",
              "      <th>4</th>\n",
              "      <td>00021f968267</td>\n",
              "      <td>GGGAACGACUCGAGUAGAGUCGAAAACAUUGUUAAUGCCUAUAUUA...</td>\n",
              "      <td>2A3_MaP</td>\n",
              "      <td>177</td>\n",
              "      <td>DasLabBigLib_OneMil_Replicates_from_previous_l...</td>\n",
              "      <td>NaN</td>\n",
              "      <td>NaN</td>\n",
              "      <td>NaN</td>\n",
              "      <td>NaN</td>\n",
              "      <td>NaN</td>\n",
              "      <td>...</td>\n",
              "      <td>NaN</td>\n",
              "      <td>NaN</td>\n",
              "      <td>NaN</td>\n",
              "      <td>NaN</td>\n",
              "      <td>NaN</td>\n",
              "      <td>NaN</td>\n",
              "      <td>NaN</td>\n",
              "      <td>NaN</td>\n",
              "      <td>NaN</td>\n",
              "      <td>NaN</td>\n",
              "    </tr>\n",
              "  </tbody>\n",
              "</table>\n",
              "<p>5 rows × 417 columns</p>\n",
              "</div>"
            ],
            "text/plain": [
              "    sequence_id                                           sequence  \\\n",
              "0  0000d87cab97  GGGAACGACUCGAGUAGAGUCGAAAAAGAUCGCCACGCACUUACGA...   \n",
              "1  0000d87cab97  GGGAACGACUCGAGUAGAGUCGAAAAAGAUCGCCACGCACUUACGA...   \n",
              "2  0001ca9d21b0  GGGAACGACUCGAGUAGAGUCGAAAAGGUGGCCGGCAGAAUCGCGA...   \n",
              "3  0001ca9d21b0  GGGAACGACUCGAGUAGAGUCGAAAAGGUGGCCGGCAGAAUCGCGA...   \n",
              "4  00021f968267  GGGAACGACUCGAGUAGAGUCGAAAACAUUGUUAAUGCCUAUAUUA...   \n",
              "\n",
              "  experiment_type  sequence_len  \\\n",
              "0         2A3_MaP           177   \n",
              "1         DMS_MaP           177   \n",
              "2         2A3_MaP           177   \n",
              "3         DMS_MaP           177   \n",
              "4         2A3_MaP           177   \n",
              "\n",
              "                                        dataset_name  reactivity_0001  \\\n",
              "0       DasLabBigLib_OneMil_RFAM_windows_100mers_2A3              NaN   \n",
              "1       DasLabBigLib_OneMil_RFAM_windows_100mers_DMS              NaN   \n",
              "2     DasLabBigLib_OneMil_OpenKnot_Round_2_train_2A3              NaN   \n",
              "3     DasLabBigLib_OneMil_OpenKnot_Round_2_train_DMS              NaN   \n",
              "4  DasLabBigLib_OneMil_Replicates_from_previous_l...              NaN   \n",
              "\n",
              "   reactivity_0002  reactivity_0003  reactivity_0004  reactivity_0005  ...  \\\n",
              "0              NaN              NaN              NaN              NaN  ...   \n",
              "1              NaN              NaN              NaN              NaN  ...   \n",
              "2              NaN              NaN              NaN              NaN  ...   \n",
              "3              NaN              NaN              NaN              NaN  ...   \n",
              "4              NaN              NaN              NaN              NaN  ...   \n",
              "\n",
              "   reactivity_error_0197  reactivity_error_0198  reactivity_error_0199  \\\n",
              "0                    NaN                    NaN                    NaN   \n",
              "1                    NaN                    NaN                    NaN   \n",
              "2                    NaN                    NaN                    NaN   \n",
              "3                    NaN                    NaN                    NaN   \n",
              "4                    NaN                    NaN                    NaN   \n",
              "\n",
              "   reactivity_error_0200  reactivity_error_0201  reactivity_error_0202  \\\n",
              "0                    NaN                    NaN                    NaN   \n",
              "1                    NaN                    NaN                    NaN   \n",
              "2                    NaN                    NaN                    NaN   \n",
              "3                    NaN                    NaN                    NaN   \n",
              "4                    NaN                    NaN                    NaN   \n",
              "\n",
              "   reactivity_error_0203  reactivity_error_0204  reactivity_error_0205  \\\n",
              "0                    NaN                    NaN                    NaN   \n",
              "1                    NaN                    NaN                    NaN   \n",
              "2                    NaN                    NaN                    NaN   \n",
              "3                    NaN                    NaN                    NaN   \n",
              "4                    NaN                    NaN                    NaN   \n",
              "\n",
              "   reactivity_error_0206  \n",
              "0                    NaN  \n",
              "1                    NaN  \n",
              "2                    NaN  \n",
              "3                    NaN  \n",
              "4                    NaN  \n",
              "\n",
              "[5 rows x 417 columns]"
            ]
          },
          "execution_count": 24,
          "metadata": {},
          "output_type": "execute_result"
        }
      ],
      "source": [
        "df.head()"
      ]
    },
    {
      "cell_type": "code",
      "execution_count": null,
      "id": "450c47c6",
      "metadata": {
        "id": "450c47c6"
      },
      "outputs": [],
      "source": [
        "df_177 = df[df[\"sequence_len\"] == 177]"
      ]
    },
    {
      "cell_type": "code",
      "execution_count": null,
      "id": "60c43cb8",
      "metadata": {
        "id": "60c43cb8",
        "outputId": "78036d9d-10d1-4ac3-d34d-d3f0007b67d0"
      },
      "outputs": [
        {
          "data": {
            "text/plain": [
              "(294788, 417)"
            ]
          },
          "execution_count": 26,
          "metadata": {},
          "output_type": "execute_result"
        }
      ],
      "source": [
        "df_177.shape"
      ]
    },
    {
      "cell_type": "code",
      "execution_count": null,
      "id": "5e5ae90b",
      "metadata": {
        "execution": {
          "iopub.execute_input": "2023-10-06T21:39:37.954028Z",
          "iopub.status.busy": "2023-10-06T21:39:37.953764Z",
          "iopub.status.idle": "2023-10-06T21:39:39.903590Z",
          "shell.execute_reply": "2023-10-06T21:39:39.902445Z"
        },
        "papermill": {
          "duration": 1.956663,
          "end_time": "2023-10-06T21:39:39.906702",
          "exception": false,
          "start_time": "2023-10-06T21:39:37.950039",
          "status": "completed"
        },
        "tags": [],
        "id": "5e5ae90b",
        "outputId": "9cf5de72-e596-487f-a727-4057872cd44b"
      },
      "outputs": [
        {
          "data": {
            "image/png": "[encoded data removed]",
            "text/plain": [
              "<Figure size 640x480 with 1 Axes>"
            ]
          },
          "metadata": {},
          "output_type": "display_data"
        }
      ],
      "source": [
        "# Let's take a look at the data, shall we?\n",
        "# Don't worry about understanding this code - it's just generally helpful to visualize your data when\n",
        "# starting a Kaggle competition.\n",
        "import collections\n",
        "import seaborn as sns\n",
        "import matplotlib.pyplot as plt\n",
        "\n",
        "char_frequencies = [sum(df_177[\"sequence\"].apply(lambda x: x.count(char))) for char in ['G','A','U','C']]\n",
        "\n",
        "sns.set_theme()\n",
        "plt.pie(char_frequencies, labels = ['G','A','U','C'], autopct='%1.1f%%')\n",
        "plt.show()"
      ]
    },
    {
      "cell_type": "markdown",
      "id": "c06e1c87",
      "metadata": {
        "papermill": {
          "duration": 0.00861,
          "end_time": "2023-10-06T21:39:39.924702",
          "exception": false,
          "start_time": "2023-10-06T21:39:39.916092",
          "status": "completed"
        },
        "tags": [],
        "id": "c06e1c87"
      },
      "source": [
        "To understand what we have here, we actually have **timeseries data.**\n",
        "### For each sequence of mRNA, we want to predict its reactivity at each position:\n",
        "\n",
        "```\n",
        "    C        A        U         G        A    ...\n",
        "  0.61     0.42     0.01      0.19     0.99   ...\n",
        "```\n",
        "\n",
        "Our data is formatted with many columns, but only a few of them are informative.\n",
        "### In fact, we only have one piece of data to condition our prediction on:\n",
        "1. The mRNA sequence itself.\n",
        "\n",
        "Aside from that, we also have a few pieces of metadata to help us decide how to train our model.\n",
        "\n",
        "2. Reads: Number of reads in the sequencing experiment that were assigned to the RNA sequence, and whose mutations were tabulated to compile the reactivity profile. (higher = more likely that this mRNA sequence data is correct).\n",
        "3. signal_to_noise: mean(measurement value)/mean(statistical error in measurement value). Higher = smaller spread for the reactivity target.\n",
        "4. SN_filter: a boolean of whether the sequence has > 100 reads and > 1 signal to noise. Basically if the data is good quality or not.\n",
        "5. reactivity error: a measure of (I'm assuming expected) error for the reactivity at each position. High error at a position = large spread = the reactivity at that position is less likely to be good training data.\n",
        "\n",
        "Our target is a sequence of the reactivities at each position in the mRNA sequence. The columns [reactivity_0001... reactivity_n], where n is the length of your sequence, contains the training target.\n",
        "\n",
        "Unfortunately the reactivities of the positions near the starts and ends of all sequences are unable to be scanned for technical reasons, so we'll have to figure out some way to impute data for those targets."
      ]
    },
    {
      "cell_type": "markdown",
      "id": "3c7f2d37",
      "metadata": {
        "papermill": {
          "duration": 0.008355,
          "end_time": "2023-10-06T21:39:39.941783",
          "exception": false,
          "start_time": "2023-10-06T21:39:39.933428",
          "status": "completed"
        },
        "tags": [],
        "id": "3c7f2d37"
      },
      "source": [
        "## Sample solution: Naive RNN\n",
        "We'll build a recurrent neural network that will take in mRNA sequences and spit out a sequence of the same length that denotes the reactivity at each position in the sequence.\n",
        "\n",
        "This sucks for multiple reasons and is strictly worse than attention (since the network can't find position-relative patterns in the sequence).\n",
        "\n",
        "Note that this model is for example purposes only - please don't use this model as a blueprint when submitting competitive code 👀."
      ]
    },
    {
      "cell_type": "code",
      "execution_count": null,
      "id": "d1aee63f",
      "metadata": {
        "execution": {
          "iopub.execute_input": "2023-10-06T21:39:39.960876Z",
          "iopub.status.busy": "2023-10-06T21:39:39.960346Z",
          "iopub.status.idle": "2023-10-06T21:39:47.793863Z",
          "shell.execute_reply": "2023-10-06T21:39:47.792906Z"
        },
        "papermill": {
          "duration": 7.845475,
          "end_time": "2023-10-06T21:39:47.795907",
          "exception": false,
          "start_time": "2023-10-06T21:39:39.950432",
          "status": "completed"
        },
        "tags": [],
        "id": "d1aee63f"
      },
      "outputs": [],
      "source": [
        "import torch as t\n",
        "df_177 = df_177.fillna(0)\n",
        "mapping = {'G': [1, 0, 0, 0],\n",
        "           'A': [0, 1, 0, 0],\n",
        "           'U': [0, 0, 1, 0],\n",
        "           'C': [0, 0, 0, 1]}\n"
      ]
    },
    {
      "cell_type": "code",
      "execution_count": null,
      "id": "28c2bfbb",
      "metadata": {
        "id": "28c2bfbb",
        "outputId": "f9682b7f-a5f9-4349-f56e-0cce1b78ca69"
      },
      "outputs": [
        {
          "data": {
            "text/html": [
              "<div>\n",
              "<style scoped>\n",
              "    .dataframe tbody tr th:only-of-type {\n",
              "        vertical-align: middle;\n",
              "    }\n",
              "\n",
              "    .dataframe tbody tr th {\n",
              "        vertical-align: top;\n",
              "    }\n",
              "\n",
              "    .dataframe thead th {\n",
              "        text-align: right;\n",
              "    }\n",
              "</style>\n",
              "<table border=\"1\" class=\"dataframe\">\n",
              "  <thead>\n",
              "    <tr style=\"text-align: right;\">\n",
              "      <th></th>\n",
              "      <th>sequence_id</th>\n",
              "      <th>sequence</th>\n",
              "      <th>experiment_type</th>\n",
              "      <th>sequence_len</th>\n",
              "      <th>dataset_name</th>\n",
              "      <th>reactivity_0001</th>\n",
              "      <th>reactivity_0002</th>\n",
              "      <th>reactivity_0003</th>\n",
              "      <th>reactivity_0004</th>\n",
              "      <th>reactivity_0005</th>\n",
              "      <th>...</th>\n",
              "      <th>reactivity_error_0197</th>\n",
              "      <th>reactivity_error_0198</th>\n",
              "      <th>reactivity_error_0199</th>\n",
              "      <th>reactivity_error_0200</th>\n",
              "      <th>reactivity_error_0201</th>\n",
              "      <th>reactivity_error_0202</th>\n",
              "      <th>reactivity_error_0203</th>\n",
              "      <th>reactivity_error_0204</th>\n",
              "      <th>reactivity_error_0205</th>\n",
              "      <th>reactivity_error_0206</th>\n",
              "    </tr>\n",
              "  </thead>\n",
              "  <tbody>\n",
              "    <tr>\n",
              "      <th>0</th>\n",
              "      <td>0000d87cab97</td>\n",
              "      <td>GGGAACGACUCGAGUAGAGUCGAAAAAGAUCGCCACGCACUUACGA...</td>\n",
              "      <td>2A3_MaP</td>\n",
              "      <td>177</td>\n",
              "      <td>DasLabBigLib_OneMil_RFAM_windows_100mers_2A3</td>\n",
              "      <td>0.0</td>\n",
              "      <td>0.0</td>\n",
              "      <td>0.0</td>\n",
              "      <td>0.0</td>\n",
              "      <td>0.0</td>\n",
              "      <td>...</td>\n",
              "      <td>0.0</td>\n",
              "      <td>0.0</td>\n",
              "      <td>0.0</td>\n",
              "      <td>0.0</td>\n",
              "      <td>0.0</td>\n",
              "      <td>0.0</td>\n",
              "      <td>0.0</td>\n",
              "      <td>0.0</td>\n",
              "      <td>0.0</td>\n",
              "      <td>0.0</td>\n",
              "    </tr>\n",
              "    <tr>\n",
              "      <th>1</th>\n",
              "      <td>0000d87cab97</td>\n",
              "      <td>GGGAACGACUCGAGUAGAGUCGAAAAAGAUCGCCACGCACUUACGA...</td>\n",
              "      <td>DMS_MaP</td>\n",
              "      <td>177</td>\n",
              "      <td>DasLabBigLib_OneMil_RFAM_windows_100mers_DMS</td>\n",
              "      <td>0.0</td>\n",
              "      <td>0.0</td>\n",
              "      <td>0.0</td>\n",
              "      <td>0.0</td>\n",
              "      <td>0.0</td>\n",
              "      <td>...</td>\n",
              "      <td>0.0</td>\n",
              "      <td>0.0</td>\n",
              "      <td>0.0</td>\n",
              "      <td>0.0</td>\n",
              "      <td>0.0</td>\n",
              "      <td>0.0</td>\n",
              "      <td>0.0</td>\n",
              "      <td>0.0</td>\n",
              "      <td>0.0</td>\n",
              "      <td>0.0</td>\n",
              "    </tr>\n",
              "    <tr>\n",
              "      <th>2</th>\n",
              "      <td>0001ca9d21b0</td>\n",
              "      <td>GGGAACGACUCGAGUAGAGUCGAAAAGGUGGCCGGCAGAAUCGCGA...</td>\n",
              "      <td>2A3_MaP</td>\n",
              "      <td>177</td>\n",
              "      <td>DasLabBigLib_OneMil_OpenKnot_Round_2_train_2A3</td>\n",
              "      <td>0.0</td>\n",
              "      <td>0.0</td>\n",
              "      <td>0.0</td>\n",
              "      <td>0.0</td>\n",
              "      <td>0.0</td>\n",
              "      <td>...</td>\n",
              "      <td>0.0</td>\n",
              "      <td>0.0</td>\n",
              "      <td>0.0</td>\n",
              "      <td>0.0</td>\n",
              "      <td>0.0</td>\n",
              "      <td>0.0</td>\n",
              "      <td>0.0</td>\n",
              "      <td>0.0</td>\n",
              "      <td>0.0</td>\n",
              "      <td>0.0</td>\n",
              "    </tr>\n",
              "    <tr>\n",
              "      <th>3</th>\n",
              "      <td>0001ca9d21b0</td>\n",
              "      <td>GGGAACGACUCGAGUAGAGUCGAAAAGGUGGCCGGCAGAAUCGCGA...</td>\n",
              "      <td>DMS_MaP</td>\n",
              "      <td>177</td>\n",
              "      <td>DasLabBigLib_OneMil_OpenKnot_Round_2_train_DMS</td>\n",
              "      <td>0.0</td>\n",
              "      <td>0.0</td>\n",
              "      <td>0.0</td>\n",
              "      <td>0.0</td>\n",
              "      <td>0.0</td>\n",
              "      <td>...</td>\n",
              "      <td>0.0</td>\n",
              "      <td>0.0</td>\n",
              "      <td>0.0</td>\n",
              "      <td>0.0</td>\n",
              "      <td>0.0</td>\n",
              "      <td>0.0</td>\n",
              "      <td>0.0</td>\n",
              "      <td>0.0</td>\n",
              "      <td>0.0</td>\n",
              "      <td>0.0</td>\n",
              "    </tr>\n",
              "    <tr>\n",
              "      <th>4</th>\n",
              "      <td>00021f968267</td>\n",
              "      <td>GGGAACGACUCGAGUAGAGUCGAAAACAUUGUUAAUGCCUAUAUUA...</td>\n",
              "      <td>2A3_MaP</td>\n",
              "      <td>177</td>\n",
              "      <td>DasLabBigLib_OneMil_Replicates_from_previous_l...</td>\n",
              "      <td>0.0</td>\n",
              "      <td>0.0</td>\n",
              "      <td>0.0</td>\n",
              "      <td>0.0</td>\n",
              "      <td>0.0</td>\n",
              "      <td>...</td>\n",
              "      <td>0.0</td>\n",
              "      <td>0.0</td>\n",
              "      <td>0.0</td>\n",
              "      <td>0.0</td>\n",
              "      <td>0.0</td>\n",
              "      <td>0.0</td>\n",
              "      <td>0.0</td>\n",
              "      <td>0.0</td>\n",
              "      <td>0.0</td>\n",
              "      <td>0.0</td>\n",
              "    </tr>\n",
              "  </tbody>\n",
              "</table>\n",
              "<p>5 rows × 417 columns</p>\n",
              "</div>"
            ],
            "text/plain": [
              "    sequence_id                                           sequence  \\\n",
              "0  0000d87cab97  GGGAACGACUCGAGUAGAGUCGAAAAAGAUCGCCACGCACUUACGA...   \n",
              "1  0000d87cab97  GGGAACGACUCGAGUAGAGUCGAAAAAGAUCGCCACGCACUUACGA...   \n",
              "2  0001ca9d21b0  GGGAACGACUCGAGUAGAGUCGAAAAGGUGGCCGGCAGAAUCGCGA...   \n",
              "3  0001ca9d21b0  GGGAACGACUCGAGUAGAGUCGAAAAGGUGGCCGGCAGAAUCGCGA...   \n",
              "4  00021f968267  GGGAACGACUCGAGUAGAGUCGAAAACAUUGUUAAUGCCUAUAUUA...   \n",
              "\n",
              "  experiment_type  sequence_len  \\\n",
              "0         2A3_MaP           177   \n",
              "1         DMS_MaP           177   \n",
              "2         2A3_MaP           177   \n",
              "3         DMS_MaP           177   \n",
              "4         2A3_MaP           177   \n",
              "\n",
              "                                        dataset_name  reactivity_0001  \\\n",
              "0       DasLabBigLib_OneMil_RFAM_windows_100mers_2A3              0.0   \n",
              "1       DasLabBigLib_OneMil_RFAM_windows_100mers_DMS              0.0   \n",
              "2     DasLabBigLib_OneMil_OpenKnot_Round_2_train_2A3              0.0   \n",
              "3     DasLabBigLib_OneMil_OpenKnot_Round_2_train_DMS              0.0   \n",
              "4  DasLabBigLib_OneMil_Replicates_from_previous_l...              0.0   \n",
              "\n",
              "   reactivity_0002  reactivity_0003  reactivity_0004  reactivity_0005  ...  \\\n",
              "0              0.0              0.0              0.0              0.0  ...   \n",
              "1              0.0              0.0              0.0              0.0  ...   \n",
              "2              0.0              0.0              0.0              0.0  ...   \n",
              "3              0.0              0.0              0.0              0.0  ...   \n",
              "4              0.0              0.0              0.0              0.0  ...   \n",
              "\n",
              "   reactivity_error_0197  reactivity_error_0198  reactivity_error_0199  \\\n",
              "0                    0.0                    0.0                    0.0   \n",
              "1                    0.0                    0.0                    0.0   \n",
              "2                    0.0                    0.0                    0.0   \n",
              "3                    0.0                    0.0                    0.0   \n",
              "4                    0.0                    0.0                    0.0   \n",
              "\n",
              "   reactivity_error_0200  reactivity_error_0201  reactivity_error_0202  \\\n",
              "0                    0.0                    0.0                    0.0   \n",
              "1                    0.0                    0.0                    0.0   \n",
              "2                    0.0                    0.0                    0.0   \n",
              "3                    0.0                    0.0                    0.0   \n",
              "4                    0.0                    0.0                    0.0   \n",
              "\n",
              "   reactivity_error_0203  reactivity_error_0204  reactivity_error_0205  \\\n",
              "0                    0.0                    0.0                    0.0   \n",
              "1                    0.0                    0.0                    0.0   \n",
              "2                    0.0                    0.0                    0.0   \n",
              "3                    0.0                    0.0                    0.0   \n",
              "4                    0.0                    0.0                    0.0   \n",
              "\n",
              "   reactivity_error_0206  \n",
              "0                    0.0  \n",
              "1                    0.0  \n",
              "2                    0.0  \n",
              "3                    0.0  \n",
              "4                    0.0  \n",
              "\n",
              "[5 rows x 417 columns]"
            ]
          },
          "execution_count": 29,
          "metadata": {},
          "output_type": "execute_result"
        }
      ],
      "source": [
        "df_177.head()"
      ]
    },
    {
      "cell_type": "code",
      "execution_count": null,
      "id": "a2deb58a",
      "metadata": {
        "id": "a2deb58a"
      },
      "outputs": [],
      "source": [
        "input_sequences = np.stack(df_177[\"sequence\"].apply(lambda x: np.array([mapping[i] for i in x])))\n",
        "output_sequences = df_177[[\"reactivity_\"+str(i).zfill(4) for i in range(1, 178)]].values[:, :, np.newaxis]\n",
        "\n",
        "# Convert numpy arrays to PyTorch tensors\n",
        "input_sequences = t.from_numpy(input_sequences).float()\n",
        "output_sequences = t.from_numpy(output_sequences).float()"
      ]
    },
    {
      "cell_type": "code",
      "execution_count": null,
      "id": "3aaa9d9a",
      "metadata": {
        "execution": {
          "iopub.execute_input": "2023-10-06T21:39:47.804985Z",
          "iopub.status.busy": "2023-10-06T21:39:47.804238Z",
          "iopub.status.idle": "2023-10-06T21:39:47.842486Z",
          "shell.execute_reply": "2023-10-06T21:39:47.841679Z"
        },
        "papermill": {
          "duration": 0.04462,
          "end_time": "2023-10-06T21:39:47.844164",
          "exception": false,
          "start_time": "2023-10-06T21:39:47.799544",
          "status": "completed"
        },
        "tags": [],
        "id": "3aaa9d9a"
      },
      "outputs": [],
      "source": [
        "# Let's replace all the NaNs with 0s. This is bad practice - it's much better to impute missing values\n",
        "# with the sample mean or a regression-imputed value instead. Try improving this on your own time!\n",
        "\n",
        "import torch as t\n",
        "import torch.nn as nn\n",
        "import torch.nn.functional as F\n",
        "\n",
        "class NaiveRNN(nn.Module):\n",
        "    def __init__(self, input_size, hidden_size, output_size, num_layers):\n",
        "        super(NaiveRNN, self).__init__()\n",
        "        self.hidden_size = hidden_size\n",
        "        self.num_layers = num_layers\n",
        "\n",
        "        self.rnn = nn.RNN(input_size, hidden_size, num_layers, batch_first=True)\n",
        "        self.fc = nn.Linear(hidden_size, output_size)\n",
        "\n",
        "    def forward(self, x):\n",
        "        h0 = t.zeros(self.num_layers, x.size(0), self.hidden_size).to(x.device)\n",
        "\n",
        "        out, _ = self.rnn(x, h0)\n",
        "        out = self.fc(out)\n",
        "        return out\n",
        "\n"
      ]
    },
    {
      "cell_type": "code",
      "execution_count": null,
      "id": "b8ea3d51",
      "metadata": {
        "id": "b8ea3d51"
      },
      "outputs": [],
      "source": [
        "# Initialize the network\n",
        "model = NaiveRNN(4, 512, 1, 3)"
      ]
    },
    {
      "cell_type": "markdown",
      "id": "1eb2dc9b",
      "metadata": {
        "papermill": {
          "duration": 0.003241,
          "end_time": "2023-10-06T21:39:47.850703",
          "exception": false,
          "start_time": "2023-10-06T21:39:47.847462",
          "status": "completed"
        },
        "tags": [],
        "id": "1eb2dc9b"
      },
      "source": [
        "### Using GPUs with Pytorch\n",
        "We heavily recommend using GPU acceleration, which should be on by default in this notebook."
      ]
    },
    {
      "cell_type": "code",
      "execution_count": null,
      "id": "6861e98a",
      "metadata": {
        "execution": {
          "iopub.execute_input": "2023-10-06T21:39:47.858298Z",
          "iopub.status.busy": "2023-10-06T21:39:47.858059Z",
          "iopub.status.idle": "2023-10-06T21:39:56.845880Z",
          "shell.execute_reply": "2023-10-06T21:39:56.844932Z"
        },
        "papermill": {
          "duration": 8.994204,
          "end_time": "2023-10-06T21:39:56.848209",
          "exception": false,
          "start_time": "2023-10-06T21:39:47.854005",
          "status": "completed"
        },
        "tags": [],
        "id": "6861e98a",
        "outputId": "3a15327f-0061-4b85-e046-4f5c5acea152"
      },
      "outputs": [
        {
          "name": "stdout",
          "output_type": "stream",
          "text": [
            "There are 2 GPU(s) available.\n"
          ]
        }
      ],
      "source": [
        "if t.cuda.is_available():\n",
        "    device = t.device(\"cuda:0\")\n",
        "    print('There are %d GPU(s) available.' % t.cuda.device_count())\n",
        "else:\n",
        "    print('No GPU found.')\n",
        "    device = t.device(\"cpu\")\n",
        "\n",
        "model = nn.DataParallel(model, device_ids=[0, 1]) # Parallelize across 2 gpus\n",
        "model = model.to(device)"
      ]
    },
    {
      "cell_type": "code",
      "execution_count": null,
      "id": "9146ba8a",
      "metadata": {
        "execution": {
          "iopub.execute_input": "2023-10-06T21:39:56.856976Z",
          "iopub.status.busy": "2023-10-06T21:39:56.856694Z",
          "iopub.status.idle": "2023-10-06T21:42:58.668483Z",
          "shell.execute_reply": "2023-10-06T21:42:58.667483Z"
        },
        "papermill": {
          "duration": 182.232643,
          "end_time": "2023-10-06T21:42:59.084727",
          "exception": false,
          "start_time": "2023-10-06T21:39:56.852084",
          "status": "completed"
        },
        "tags": [],
        "id": "9146ba8a"
      },
      "outputs": [],
      "source": [
        "# Loss + Optimizer\n",
        "criterion = nn.MSELoss()\n",
        "optimizer = t.optim.Adam(model.parameters(), lr=5e-4)\n",
        "\n",
        "from sklearn.model_selection import train_test_split\n",
        "X_train, X_test, y_train, y_test = train_test_split(input_sequences, output_sequences, test_size = 0.2)\n",
        "\n",
        "class sequence_dataset(t.utils.data.Dataset):\n",
        "    def __init__(self, input_sequences, output_sequences):\n",
        "        self.input_sequences = input_sequences; self.output_sequences = output_sequences\n",
        "\n",
        "    def __len__(self):\n",
        "        assert len(self.input_sequences) == len(self.output_sequences)\n",
        "        return len(self.input_sequences)\n",
        "\n",
        "    def __getitem__(self, idx):\n",
        "        return self.input_sequences[idx], self.output_sequences[idx]\n",
        "\n",
        "BATCH_SIZE = 32 * 2\n",
        "train_dl=t.utils.data.DataLoader(sequence_dataset(X_train, y_train), batch_size=BATCH_SIZE, shuffle=True)\n",
        "test_dl=t.utils.data.DataLoader(sequence_dataset(X_test, y_test), batch_size=BATCH_SIZE, shuffle=True)\n",
        "\n"
      ]
    },
    {
      "cell_type": "code",
      "execution_count": null,
      "id": "ea62ab0e",
      "metadata": {
        "id": "ea62ab0e",
        "outputId": "b013be30-73df-4e3e-cd00-2008592c99f5"
      },
      "outputs": [
        {
          "name": "stdout",
          "output_type": "stream",
          "text": [
            "Epoch 1\n"
          ]
        },
        {
          "name": "stderr",
          "output_type": "stream",
          "text": [
            "Training Loss: 0.237152: 100%|██████████| 3685/3685 [00:44<00:00, 82.04it/s]\n",
            "Validation Loss: 0.196968: 100%|██████████| 922/922 [00:06<00:00, 146.35it/s]\n"
          ]
        },
        {
          "name": "stdout",
          "output_type": "stream",
          "text": [
            "Epoch 2\n"
          ]
        },
        {
          "name": "stderr",
          "output_type": "stream",
          "text": [
            "Training Loss: 0.216043: 100%|██████████| 3685/3685 [00:44<00:00, 82.24it/s]\n",
            "Validation Loss: 0.236100: 100%|██████████| 922/922 [00:06<00:00, 145.94it/s]\n"
          ]
        },
        {
          "name": "stdout",
          "output_type": "stream",
          "text": [
            "Epoch 3\n"
          ]
        },
        {
          "name": "stderr",
          "output_type": "stream",
          "text": [
            "Training Loss: 0.197057: 100%|██████████| 3685/3685 [00:45<00:00, 81.54it/s]\n",
            "Validation Loss: 0.239931: 100%|██████████| 922/922 [00:06<00:00, 148.13it/s]\n"
          ]
        },
        {
          "name": "stdout",
          "output_type": "stream",
          "text": [
            "Epoch 4\n"
          ]
        },
        {
          "name": "stderr",
          "output_type": "stream",
          "text": [
            "Training Loss: 0.226095: 100%|██████████| 3685/3685 [00:45<00:00, 81.72it/s]\n",
            "Validation Loss: 0.194063: 100%|██████████| 922/922 [00:06<00:00, 149.34it/s]\n"
          ]
        },
        {
          "name": "stdout",
          "output_type": "stream",
          "text": [
            "Epoch 5\n"
          ]
        },
        {
          "name": "stderr",
          "output_type": "stream",
          "text": [
            "Training Loss: 0.229782: 100%|██████████| 3685/3685 [00:45<00:00, 81.62it/s]\n",
            "Validation Loss: 0.282123: 100%|██████████| 922/922 [00:06<00:00, 147.27it/s]\n"
          ]
        },
        {
          "name": "stdout",
          "output_type": "stream",
          "text": [
            "Epoch 6\n"
          ]
        },
        {
          "name": "stderr",
          "output_type": "stream",
          "text": [
            "Training Loss: 0.208060: 100%|██████████| 3685/3685 [00:44<00:00, 82.16it/s]\n",
            "Validation Loss: 0.232190: 100%|██████████| 922/922 [00:06<00:00, 144.83it/s]\n"
          ]
        },
        {
          "name": "stdout",
          "output_type": "stream",
          "text": [
            "Epoch 7\n"
          ]
        },
        {
          "name": "stderr",
          "output_type": "stream",
          "text": [
            "Training Loss: 0.212385: 100%|██████████| 3685/3685 [00:44<00:00, 81.94it/s]\n",
            "Validation Loss: 0.202605: 100%|██████████| 922/922 [00:06<00:00, 147.30it/s]\n"
          ]
        },
        {
          "name": "stdout",
          "output_type": "stream",
          "text": [
            "Epoch 8\n"
          ]
        },
        {
          "name": "stderr",
          "output_type": "stream",
          "text": [
            "Training Loss: 0.220467: 100%|██████████| 3685/3685 [00:44<00:00, 82.67it/s]\n",
            "Validation Loss: 0.208791: 100%|██████████| 922/922 [00:06<00:00, 150.32it/s]\n"
          ]
        },
        {
          "name": "stdout",
          "output_type": "stream",
          "text": [
            "Epoch 9\n"
          ]
        },
        {
          "name": "stderr",
          "output_type": "stream",
          "text": [
            "Training Loss: 0.210568: 100%|██████████| 3685/3685 [00:44<00:00, 82.07it/s]\n",
            "Validation Loss: 0.279349: 100%|██████████| 922/922 [00:06<00:00, 149.59it/s]\n"
          ]
        },
        {
          "name": "stdout",
          "output_type": "stream",
          "text": [
            "Epoch 10\n"
          ]
        },
        {
          "name": "stderr",
          "output_type": "stream",
          "text": [
            "Training Loss: 0.202890: 100%|██████████| 3685/3685 [00:45<00:00, 81.72it/s]\n",
            "Validation Loss: 0.191316: 100%|██████████| 922/922 [00:06<00:00, 149.56it/s]\n"
          ]
        },
        {
          "name": "stdout",
          "output_type": "stream",
          "text": [
            "Epoch 11\n"
          ]
        },
        {
          "name": "stderr",
          "output_type": "stream",
          "text": [
            "Training Loss: 0.203958: 100%|██████████| 3685/3685 [00:45<00:00, 81.80it/s]\n",
            "Validation Loss: 0.198717: 100%|██████████| 922/922 [00:06<00:00, 147.05it/s]\n"
          ]
        },
        {
          "name": "stdout",
          "output_type": "stream",
          "text": [
            "Epoch 12\n"
          ]
        },
        {
          "name": "stderr",
          "output_type": "stream",
          "text": [
            "Training Loss: 0.221233: 100%|██████████| 3685/3685 [00:44<00:00, 82.43it/s]\n",
            "Validation Loss: 0.198569: 100%|██████████| 922/922 [00:05<00:00, 154.04it/s]\n"
          ]
        },
        {
          "name": "stdout",
          "output_type": "stream",
          "text": [
            "Epoch 13\n"
          ]
        },
        {
          "name": "stderr",
          "output_type": "stream",
          "text": [
            "Training Loss: 0.215605: 100%|██████████| 3685/3685 [00:45<00:00, 81.03it/s]\n",
            "Validation Loss: 0.408393: 100%|██████████| 922/922 [00:06<00:00, 147.24it/s]\n"
          ]
        },
        {
          "name": "stdout",
          "output_type": "stream",
          "text": [
            "Epoch 14\n"
          ]
        },
        {
          "name": "stderr",
          "output_type": "stream",
          "text": [
            "Training Loss: 0.221128: 100%|██████████| 3685/3685 [00:45<00:00, 81.70it/s]\n",
            "Validation Loss: 0.172971: 100%|██████████| 922/922 [00:06<00:00, 145.82it/s]\n"
          ]
        },
        {
          "name": "stdout",
          "output_type": "stream",
          "text": [
            "Epoch 15\n"
          ]
        },
        {
          "name": "stderr",
          "output_type": "stream",
          "text": [
            "Training Loss: 0.211842: 100%|██████████| 3685/3685 [00:45<00:00, 81.24it/s]\n",
            "Validation Loss: 0.175679: 100%|██████████| 922/922 [00:06<00:00, 144.79it/s]\n"
          ]
        },
        {
          "name": "stdout",
          "output_type": "stream",
          "text": [
            "Epoch 16\n"
          ]
        },
        {
          "name": "stderr",
          "output_type": "stream",
          "text": [
            "Training Loss: 0.207264: 100%|██████████| 3685/3685 [00:45<00:00, 81.68it/s]\n",
            "Validation Loss: 0.191471: 100%|██████████| 922/922 [00:06<00:00, 144.61it/s]\n"
          ]
        },
        {
          "name": "stdout",
          "output_type": "stream",
          "text": [
            "Epoch 17\n"
          ]
        },
        {
          "name": "stderr",
          "output_type": "stream",
          "text": [
            "Training Loss: 0.209489: 100%|██████████| 3685/3685 [00:45<00:00, 81.50it/s]\n",
            "Validation Loss: 0.224150: 100%|██████████| 922/922 [00:06<00:00, 150.12it/s]\n"
          ]
        },
        {
          "name": "stdout",
          "output_type": "stream",
          "text": [
            "Epoch 18\n"
          ]
        },
        {
          "name": "stderr",
          "output_type": "stream",
          "text": [
            "Training Loss: 0.195928: 100%|██████████| 3685/3685 [00:45<00:00, 81.46it/s]\n",
            "Validation Loss: 0.207823: 100%|██████████| 922/922 [00:06<00:00, 145.27it/s]\n"
          ]
        },
        {
          "name": "stdout",
          "output_type": "stream",
          "text": [
            "Epoch 19\n"
          ]
        },
        {
          "name": "stderr",
          "output_type": "stream",
          "text": [
            "Training Loss: 0.214127: 100%|██████████| 3685/3685 [00:43<00:00, 85.46it/s]\n",
            "Validation Loss: 0.173709: 100%|██████████| 922/922 [00:06<00:00, 147.83it/s]\n"
          ]
        },
        {
          "name": "stdout",
          "output_type": "stream",
          "text": [
            "Epoch 20\n"
          ]
        },
        {
          "name": "stderr",
          "output_type": "stream",
          "text": [
            "Training Loss: 0.208070: 100%|██████████| 3685/3685 [00:43<00:00, 83.84it/s]\n",
            "Validation Loss: 0.186122: 100%|██████████| 922/922 [00:05<00:00, 156.04it/s]\n"
          ]
        }
      ],
      "source": [
        "# Training loop\n",
        "from tqdm import tqdm, trange\n",
        "epochs = 20; ema_loss = None\n",
        "train_history, test_history = [], []\n",
        "for epoch in range(epochs):\n",
        "    print(\"Epoch %d\"%(epoch+1))\n",
        "    with tqdm(train_dl) as pbar:\n",
        "        for input_sequence, output_sequence in pbar:\n",
        "            input_sequence = input_sequence.to(device)\n",
        "            output_sequence = output_sequence.to(device)\n",
        "            # Zero the parameter gradients\n",
        "            optimizer.zero_grad()\n",
        "\n",
        "            # Forward pass\n",
        "            outputs = model(input_sequence, )\n",
        "            loss = criterion(outputs, output_sequence)\n",
        "\n",
        "            # Backward pass and optimization\n",
        "            loss.backward()\n",
        "            optimizer.step()\n",
        "            if ema_loss is None: ema_loss = loss.item()\n",
        "            else: ema_loss = ema_loss * 0.98 + loss.item() * 0.02\n",
        "            pbar.set_description(\"Training Loss: %f\"%ema_loss)\n",
        "            train_history.append(loss.item())\n",
        "    with tqdm(test_dl) as pbar:\n",
        "        for input_sequence, output_sequence in pbar:\n",
        "            input_sequence = input_sequence.to(device)\n",
        "            output_sequence = output_sequence.to(device)\n",
        "            # Forward pass\n",
        "            with t.no_grad():\n",
        "                outputs = model(input_sequence)\n",
        "                loss = criterion(outputs, output_sequence)\n",
        "\n",
        "                pbar.set_description(\"Validation Loss: %f\"%loss)\n",
        "            test_history.append(loss.item())"
      ]
    },
    {
      "cell_type": "code",
      "execution_count": null,
      "id": "d40a3ee7",
      "metadata": {
        "execution": {
          "iopub.execute_input": "2023-10-06T21:42:59.806546Z",
          "iopub.status.busy": "2023-10-06T21:42:59.805605Z",
          "iopub.status.idle": "2023-10-06T21:43:00.425585Z",
          "shell.execute_reply": "2023-10-06T21:43:00.424635Z"
        },
        "papermill": {
          "duration": 0.979623,
          "end_time": "2023-10-06T21:43:00.427609",
          "exception": false,
          "start_time": "2023-10-06T21:42:59.447986",
          "status": "completed"
        },
        "tags": [],
        "id": "d40a3ee7",
        "outputId": "279ce1cb-65e2-4653-c3db-a2f758c8ca84"
      },
      "outputs": [
        {
          "data": {
            "text/plain": [
              "<Axes: >"
            ]
          },
          "execution_count": 46,
          "metadata": {},
          "output_type": "execute_result"
        },
        {
          "data": {
            "image/png": "[encoded data removed]",
            "text/plain": [
              "<Figure size 800x500 with 2 Axes>"
            ]
          },
          "metadata": {},
          "output_type": "display_data"
        }
      ],
      "source": [
        "import seaborn as sns\n",
        "def ema(data, smoothing = 0.98):\n",
        "    smoothed_data = []\n",
        "    val = None\n",
        "    for item in data:\n",
        "        if val is None: val = item\n",
        "        else: val = val * smoothing + item * (1 - smoothing)\n",
        "        smoothed_data.append(val)\n",
        "    return smoothed_data\n",
        "\n",
        "fig, axes = plt.subplots(2, 1, figsize = (8, 5))\n",
        "sns.lineplot(ema(train_history), ax = axes[0], label = \"Train loss\")\n",
        "sns.lineplot(ema(test_history), ax = axes[1], label = \"Val loss\")"
      ]
    },
    {
      "cell_type": "code",
      "execution_count": null,
      "id": "37e691be",
      "metadata": {
        "id": "37e691be",
        "outputId": "45d7735e-baee-431f-9c3f-d233c8f07f00"
      },
      "outputs": [
        {
          "data": {
            "text/plain": [
              "(1343823, 6)"
            ]
          },
          "execution_count": 50,
          "metadata": {},
          "output_type": "execute_result"
        }
      ],
      "source": [
        "# Add new column which holds sequence len\n",
        "df_test = pd.read_csv(\"Datasets/test_sequences.csv\")\n",
        "sequence_len = df_test['sequence'].apply(lambda x: len(x))\n",
        "df_test.insert (3, \"sequence_len\", sequence_len)\n",
        "df_test.head()\n",
        "df_test.shape\n"
      ]
    },
    {
      "cell_type": "code",
      "execution_count": null,
      "id": "8b4e00ec",
      "metadata": {
        "id": "8b4e00ec",
        "outputId": "76a34d7f-52b5-4854-fe85-f7933eb288c8"
      },
      "outputs": [
        {
          "name": "stdout",
          "output_type": "stream",
          "text": [
            "(335823, 6)\n"
          ]
        }
      ],
      "source": [
        "df_test_177 = df_test[df_test[\"sequence_len\"] == 177]\n",
        "print(df_test_177.shape)"
      ]
    },
    {
      "cell_type": "markdown",
      "id": "f43b067f",
      "metadata": {
        "papermill": {
          "duration": 0.351463,
          "end_time": "2023-10-06T21:43:01.173522",
          "exception": false,
          "start_time": "2023-10-06T21:43:00.822059",
          "status": "completed"
        },
        "tags": [],
        "id": "f43b067f"
      },
      "source": [
        "Now that we've got a model, let's make predictions!"
      ]
    },
    {
      "cell_type": "code",
      "execution_count": null,
      "id": "cd144871",
      "metadata": {
        "execution": {
          "iopub.execute_input": "2023-10-06T21:43:01.933841Z",
          "iopub.status.busy": "2023-10-06T21:43:01.933472Z",
          "iopub.status.idle": "2023-10-06T21:46:08.748204Z",
          "shell.execute_reply": "2023-10-06T21:46:08.747195Z"
        },
        "papermill": {
          "duration": 187.228827,
          "end_time": "2023-10-06T21:46:08.750418",
          "exception": false,
          "start_time": "2023-10-06T21:43:01.521591",
          "status": "completed"
        },
        "tags": [],
        "id": "cd144871"
      },
      "outputs": [],
      "source": [
        "df_test_177 = df_test_177.fillna(0)\n",
        "mapping = {'G': [1, 0, 0, 0],\n",
        "           'A': [0, 1, 0, 0],\n",
        "           'U': [0, 0, 1, 0],\n",
        "           'C': [0, 0, 0, 1]}\n",
        "input_sequences = df_test_177[\"sequence\"].apply(lambda x: t.Tensor([mapping[i] for i in x]).to(device))"
      ]
    },
    {
      "cell_type": "code",
      "execution_count": null,
      "id": "8473ea84",
      "metadata": {
        "execution": {
          "iopub.execute_input": "2023-10-06T21:46:09.436849Z",
          "iopub.status.busy": "2023-10-06T21:46:09.436186Z",
          "iopub.status.idle": "2023-10-07T00:46:03.543276Z",
          "shell.execute_reply": "2023-10-07T00:46:03.542079Z"
        },
        "papermill": {
          "duration": 10794.451961,
          "end_time": "2023-10-07T00:46:03.545128",
          "exception": false,
          "start_time": "2023-10-06T21:46:09.093167",
          "status": "completed"
        },
        "tags": [],
        "id": "8473ea84",
        "outputId": "a41f508b-d3f5-4c7c-c018-e519253ae282"
      },
      "outputs": [
        {
          "name": "stderr",
          "output_type": "stream",
          "text": [
            "100%|██████████| 335823/335823 [13:26<00:00, 416.47it/s]\n"
          ]
        }
      ],
      "source": [
        "import csv\n",
        "with open(\"output.csv\", \"a\") as csv_file:\n",
        "    writer = csv.writer(csv_file, delimiter=',')\n",
        "    writer.writerow(['id','reactivity_DMS_MaP','reactivity_2A3_MaP'])\n",
        "    start_idx = 0\n",
        "    for input_sequence in tqdm(input_sequences):\n",
        "        # Forward pass\n",
        "        with t.no_grad():\n",
        "            output = model(input_sequence.unsqueeze(dim = 0))\n",
        "            output_list = output.squeeze().cpu()\n",
        "            writer.writerows([[start_idx + index, i.item(), i.item()] for index, i in enumerate(output_list)])\n",
        "            start_idx += len(output_list)"
      ]
    }
  ],
  "metadata": {
    "kernelspec": {
      "display_name": "Python 3",
      "language": "python",
      "name": "python3"
    },
    "language_info": {
      "codemirror_mode": {
        "name": "ipython",
        "version": 3
      },
      "file_extension": ".py",
      "mimetype": "text/x-python",
      "name": "python",
      "nbconvert_exporter": "python",
      "pygments_lexer": "ipython3",
      "version": "3.10.12"
    },
    "papermill": {
      "default_parameters": {},
      "duration": 11201.613055,
      "end_time": "2023-10-07T00:46:13.186186",
      "environment_variables": {},
      "exception": null,
      "input_path": "__notebook__.ipynb",
      "output_path": "__notebook__.ipynb",
      "parameters": {},
      "start_time": "2023-10-06T21:39:31.573131",
      "version": "2.4.0"
    },
    "colab": {
      "provenance": []
    }
  },
  "nbformat": 4,
  "nbformat_minor": 5
}